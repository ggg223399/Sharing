{
 "cells": [
  {
   "cell_type": "code",
   "execution_count": 1,
   "id": "783bc9cc-9264-4762-95b2-ae9cac865cf0",
   "metadata": {
    "tags": []
   },
   "outputs": [],
   "source": [
    "from moralis import evm_api\n",
    "import requests\n",
    "from web3 import Web3\n",
    "import time\n",
    "import pandas as pd\n",
    "import web3\n",
    "import random\n",
    "import json"
   ]
  },
  {
   "cell_type": "code",
   "execution_count": 2,
   "id": "555ca0fc-4f8e-4c90-bc95-84d34716e157",
   "metadata": {
    "tags": []
   },
   "outputs": [],
   "source": [
    "# 填入相应的 Key\n",
    "api_key = \"...\"\n",
    "CHAINLIST  = ['eth']\n",
    "timestamp_list = [1685343054,]\n",
    "\n",
    "def acquire_block_height():\n",
    "    for chain in CHAINLIST:\n",
    "        for timestamp in timestamp_list:\n",
    "            #time.sleep(0.5)\n",
    "            \n",
    "            params = {\n",
    "                \"chain\": chain,\n",
    "                \"date\": str(timestamp),\n",
    "            }\n",
    "            \n",
    "            result = evm_api.block.get_date_to_block(\n",
    "                api_key=api_key,\n",
    "                params=params,\n",
    "            )\n",
    "            \n",
    "            return result\n",
    "\n",
    "block_height = acquire_block_height()"
   ]
  },
  {
   "cell_type": "code",
   "execution_count": 5,
   "id": "bc466c50-3191-4a62-af66-4852806a8a18",
   "metadata": {
    "tags": []
   },
   "outputs": [
    {
     "data": {
      "text/plain": [
       "{'block': 17362974,\n",
       " 'date': '2023-05-29T06:50:54+00:00',\n",
       " 'timestamp': 1685343054,\n",
       " 'block_timestamp': '2023-05-29T06:50:47.000Z',\n",
       " 'hash': '0xebef005037a453c5db3788a6a41032d2b441e117c63b6557c1535b7ac1a52122',\n",
       " 'parent_hash': '0x23d0be634fcaf22d78c3c9d61d0f906de37d92b3d1ceeec278ca42340dca95e4'}"
      ]
     },
     "execution_count": 5,
     "metadata": {},
     "output_type": "execute_result"
    }
   ],
   "source": [
    "block_height"
   ]
  },
  {
   "cell_type": "code",
   "execution_count": 6,
   "id": "105ff994-08ca-49fb-8503-8b06635f8cc7",
   "metadata": {},
   "outputs": [
    {
     "data": {
      "text/plain": [
       "'oneInchV5FeeDynamic'"
      ]
     },
     "execution_count": 6,
     "metadata": {},
     "output_type": "execute_result"
    }
   ],
   "source": [
    "Web3.to_hex(b'oneInchV5FeeDynamic')\n",
    "Web3.to_text(0x6f6e65496e6368563546656544796e616d6963)"
   ]
  },
  {
   "cell_type": "code",
   "execution_count": 7,
   "id": "4f5d4922-3cf3-4092-b5e9-17e334576c1f",
   "metadata": {
    "tags": []
   },
   "outputs": [],
   "source": [
    "url = \"https://api.chainbase.online/v1/dw/query\"\n",
    "\n",
    "payload = {\"query\":\"SELECT\\r\\n    *\\r\\nfrom\\r\\n    ethereum.transactions\\r\\nWHERE\\r\\n    to_address = \\\"0x881d40237659c251811cec9c364ef91dc08d300c\\\" and block_number < 17342324\\r\\nORDER BY\\r\\n    block_number DESC\\r\\nLIMIT\\r\\n    1000\"}\n",
    "\n",
    "headers = {\n",
    "    \"x-api-key\": \"...\"\n",
    "}\n",
    "\n",
    "response = requests.post(url, json=payload, headers=headers)\n",
    "\n",
    "#print(response.text)\n"
   ]
  },
  {
   "cell_type": "code",
   "execution_count": 8,
   "id": "3f6a9035-ebe5-4439-83a7-e651a6e59024",
   "metadata": {
    "tags": []
   },
   "outputs": [],
   "source": [
    "metamask_tx = response.json()['data']['result']"
   ]
  },
  {
   "cell_type": "code",
   "execution_count": 9,
   "id": "aa6b4378-300f-4b12-bf42-55904db07616",
   "metadata": {
    "tags": []
   },
   "outputs": [],
   "source": [
    "#metamask_tx = pd.Dataframe(colume=['Protocols', 'Count'])\n",
    "\n",
    "agg_list = {}\n",
    "\n",
    "for tx in metamask_tx:\n",
    "    agg_name = Web3.to_text('0x'+tx['input'][330:368])\n",
    "    if agg_name not in agg_list:\n",
    "        agg_list[agg_name] = 0\n",
    "    else:\n",
    "        #tmp = \n",
    "        agg_list[agg_name] += 1\n"
   ]
  },
  {
   "cell_type": "code",
   "execution_count": 10,
   "id": "cae343c3-c4d5-44dc-9f66-1a38f7601a96",
   "metadata": {
    "tags": []
   },
   "outputs": [
    {
     "data": {
      "text/plain": [
       "{'oneInchV5FeeDynamic': 748,\n",
       " 'airswapLight3FeeDyn': 85,\n",
       " '0xFeeDynamic\\x00\\x00\\x00\\x00\\x00\\x00\\x00': 65,\n",
       " 'pmmFeeDynamicv4\\x00\\x00\\x00\\x00': 72,\n",
       " 'openOceanFeeDynamic': 25}"
      ]
     },
     "execution_count": 10,
     "metadata": {},
     "output_type": "execute_result"
    }
   ],
   "source": [
    "agg_list"
   ]
  },
  {
   "cell_type": "code",
   "execution_count": 11,
   "id": "a7be24dd-aec6-4cf3-af28-923e9f9fb226",
   "metadata": {
    "tags": []
   },
   "outputs": [],
   "source": [
    "#1inch交易分析\n",
    "url = \"https://api.chainbase.online/v1/dw/query\"\n",
    "\n",
    "payload = {\"query\":\"SELECT\\r\\n    *\\r\\nfrom\\r\\n    ethereum.transactions\\r\\nWHERE\\r\\n    to_address = '0x881d40237659c251811cec9c364ef91dc08d300c' AND input Like '%6f6e65496e6368563546656544796e616d6963%'\\r\\nORDER BY\\r\\n    block_number DESC\\r\\nLIMIT\\r\\n    1000\"}\n",
    "\n",
    "headers = {\n",
    "    \"x-api-key\": \"...\"\n",
    "}\n",
    "\n",
    "response = requests.post(url, json=payload, headers=headers)\n",
    "one_inch_tx = response.json()['data']['result']"
   ]
  },
  {
   "cell_type": "code",
   "execution_count": 12,
   "id": "99f9ca6b-f325-43da-8310-4924ef1566e3",
   "metadata": {
    "tags": []
   },
   "outputs": [],
   "source": [
    "# 使用方法统计\n",
    "oneinch_swap = '12aa3caf'\n",
    "oneinch_unoswap = '0502b1c5'\n",
    "oneinch_unoswap_to = 'f78dc253'\n",
    "oneinch_univ3 = 'e449022e'\n",
    "oneinch_univ3_to = 'bc80f1a8'\n",
    "oneinch_clipper = '84bd6d29'\n",
    "oneinch_fillorder = '70ccbd31'\n",
    "\n",
    "func_list = [oneinch_swap, oneinch_unoswap, oneinch_unoswap_to, oneinch_univ3, oneinch_univ3_to, oneinch_clipper, oneinch_fillorder]\n",
    "func_distribute = {}\n",
    "\n",
    "\n",
    "#func_list[1] in one_inch_tx[0]['input']\n",
    "\n",
    "for tx in one_inch_tx:\n",
    "    for func in func_list:\n",
    "        if func in tx['input'] and func not in func_distribute:\n",
    "            func_distribute[func] = 0\n",
    "        elif func in tx['input'] and func in func_distribute:\n",
    "            func_distribute[func] += 1"
   ]
  },
  {
   "cell_type": "code",
   "execution_count": 13,
   "id": "4182b26c-35c3-4dd4-b2e5-7ff4034bf776",
   "metadata": {
    "tags": []
   },
   "outputs": [
    {
     "data": {
      "text/plain": [
       "{'e449022e': 220, '0502b1c5': 688, '12aa3caf': 82, '84bd6d29': 0}"
      ]
     },
     "execution_count": 13,
     "metadata": {},
     "output_type": "execute_result"
    }
   ],
   "source": [
    "func_distribute\n",
    "\n",
    "# 结论是小狐狸用户主要使用用到 CallUniswap & CallUniswapv3 方法"
   ]
  },
  {
   "cell_type": "code",
   "execution_count": null,
   "id": "a30bffbb-79cf-4e04-b702-eb4a0d62d91b",
   "metadata": {},
   "outputs": [],
   "source": []
  },
  {
   "cell_type": "code",
   "execution_count": 420,
   "id": "28c25877-60d7-4a8c-8ca5-7cc72b943f5a",
   "metadata": {
    "tags": []
   },
   "outputs": [],
   "source": [
    "def one_inch_unoswap_resolve(tx):\n",
    "    if tx['input'][98:138] == '0000000000000000000000000000000000000000':\n",
    "        in_eth_raw_amount = int(tx['input'][650:714], 16)\n",
    "        in_eth_decimals = 18\n",
    "        eth_amount = in_eth_raw_amount / (10 ** in_eth_decimals)\n",
    "        \n",
    "    else:\n",
    "        out_eth_raw_amount = int(tx['input'][-316:-252], 16)\n",
    "        out_eth_decimals = 18\n",
    "        eth_amount = (out_eth_raw_amount / (10 ** out_eth_decimals)) * 1.008\n",
    "        \n",
    "        #in_token_address = '0x' + tx['input'][546:586]\n",
    "        #in_token_raw_amount = Web3.to_int['input'][650:714]\n",
    "        #in_token_decimals = ...\n",
    "        #in_token_amount = in_token_raw_amount/ 10 ** in_token_decimals\n",
    "\n",
    "    return [tx['transaction_hash'], eth_amount]"
   ]
  },
  {
   "cell_type": "code",
   "execution_count": 377,
   "id": "1d06c233-b875-427e-97b7-9f87c54f37e3",
   "metadata": {
    "tags": []
   },
   "outputs": [
    {
     "data": {
      "text/plain": [
       "438336779330374001319298252081"
      ]
     },
     "execution_count": 377,
     "metadata": {},
     "output_type": "execute_result"
    }
   ],
   "source": [
    "Web3.to_int(0x58857af8583b865025e14bd31)\n",
    "#len('00000000000000000000000000000000000000000000000000000007b80b2a13e8645a')"
   ]
  },
  {
   "cell_type": "code",
   "execution_count": 366,
   "id": "6314a7ef-e43c-4568-9912-9021afa0959b",
   "metadata": {
    "tags": []
   },
   "outputs": [
    {
     "data": {
      "text/plain": [
       "556206829330785370"
      ]
     },
     "execution_count": 366,
     "metadata": {},
     "output_type": "execute_result"
    }
   ],
   "source": [
    "str1 = '0x5f57552900000000000000000000000000000000000000000000000000000000000000800000000000000000000000006982508145454ce325ddbe47a25d4ec3d23119330000000000000000000000000000000000000000026c62ad77dc602dae00000000000000000000000000000000000000000000000000000000000000000000c000000000000000000000000000000000000000000000000000000000000000136f6e65496e6368563546656544796e616d69630000000000000000000000000000000000000000000000000000000000000000000000000000000000000002000000000000000000000000006982508145454ce325ddbe47a25d4ec3d231193300000000000000000000000000000000000000000000000000000000000000000000000000000000000000000000000000000000026c62ad77dc602dae00000000000000000000000000000000000000000000000000000007a6c0d3a12c704600000000000000000000000000000000000000000000000000000000000001200000000000000000000000000000000000000000000000000011a4abcde45c53000000000000000000000000f326e4de8f66a0bdc0970b79e0924e33c79f1915000000000000000000000000000000000000000000000000000000000000000100000000000000000000000000000000000000000000000000000000000000c80502b1c50000000000000000000000006982508145454ce325ddbe47a25d4ec3d23119330000000000000000000000000000000000000000026c62ad77dc602dae00000000000000000000000000000000000000000000000000000007b80b2a13e8645a0000000000000000000000000000000000000000000000000000000000000080000000000000000000000000000000000000000000000000000000000000000140000000000000003b6d0340a43fe16908251ee70ef74718545e4fe6c5ccec9fab4991fe00000000000000000000000000000000000000000000000000c7'\n",
    "str1[-316:-252]\n",
    "int('00000000000000000000000000000000000000000000000007b80b2a13e8645a', 16)"
   ]
  },
  {
   "cell_type": "code",
   "execution_count": 421,
   "id": "25a9b936-2742-48e9-a9c1-ae971af4f8c4",
   "metadata": {
    "tags": []
   },
   "outputs": [],
   "source": [
    "volume = {'unoswap':0, 'unoswap_count':0 ,'univ3':0, 'swap':0}\n",
    "counter_max = 10\n",
    "counter = 0\n",
    "\n",
    "#df_transaction = pd.DataFrame(columns=['tx_hash', 'in_token_address', 'in_token_amount', 'out_token_address', 'out_token_amount'])\n",
    "\n",
    "\n",
    "db = pd.DataFrame(columns=['tx_hash', 'volume'])\n",
    "\n",
    "for tx in one_inch_tx:\n",
    "    #if counter >= counter_max:\n",
    "        #break\n",
    "    \n",
    "    if oneinch_unoswap in tx['input']:\n",
    "        tx_volume = one_inch_unoswap_resolve(tx)\n",
    "        \n",
    "        tmp = {'tx_hash': tx_volume[0], 'volume': tx_volume[1]}\n",
    "        db.loc[len(db)]=tmp\n",
    "        \n",
    "        volume['unoswap'] += tx_volume[1]\n",
    "        volume['unoswap_count'] += 1\n",
    "    #elif oneinch_univ3 in tx:\n",
    "        #continue\n",
    "    #elif oneinch_swap in tx:\n",
    "        #continue\n",
    "    #else:\n",
    "        #continue"
   ]
  },
  {
   "cell_type": "code",
   "execution_count": 422,
   "id": "5b1d4de6-6f7f-4421-9da3-d3e5b4c729f5",
   "metadata": {
    "tags": []
   },
   "outputs": [
    {
     "data": {
      "text/plain": [
       "{'unoswap': 22302631065017.816, 'unoswap_count': 790, 'univ3': 0, 'swap': 0}"
      ]
     },
     "execution_count": 422,
     "metadata": {},
     "output_type": "execute_result"
    }
   ],
   "source": [
    "volume"
   ]
  },
  {
   "cell_type": "code",
   "execution_count": 388,
   "id": "74d76906-f48d-4f26-89d1-a73e2545df70",
   "metadata": {
    "tags": []
   },
   "outputs": [],
   "source": [
    "for tx in one_inch_tx:\n",
    "    if tx['transaction_hash'] == '0x409cb7ec387f3b06e4b43f89b777a163a00d31a8283e089cfaffa15b39b30269':\n",
    "        a = tx"
   ]
  },
  {
   "cell_type": "code",
   "execution_count": 431,
   "id": "a239e34d-bfbc-4b99-ac2a-b96046957078",
   "metadata": {
    "tags": []
   },
   "outputs": [
    {
     "data": {
      "text/plain": [
       "'000000000000000000000000000000000000000000000010566466a3b39cf782'"
      ]
     },
     "execution_count": 431,
     "metadata": {},
     "output_type": "execute_result"
    }
   ],
   "source": [
    "one_inch_tx[1]['input'][-316:-252]"
   ]
  },
  {
   "cell_type": "code",
   "execution_count": 433,
   "id": "62368239-0e93-4d2c-a2c2-b7e3a762784c",
   "metadata": {
    "tags": []
   },
   "outputs": [
    {
     "data": {
      "text/plain": [
       "301373118617564804994"
      ]
     },
     "execution_count": 433,
     "metadata": {},
     "output_type": "execute_result"
    }
   ],
   "source": [
    "Web3.to_int(0x10566466a3b39cf782)"
   ]
  },
  {
   "cell_type": "code",
   "execution_count": 430,
   "id": "b4052fe8-adf6-411b-857c-a5852a1b6028",
   "metadata": {
    "tags": []
   },
   "outputs": [
    {
     "data": {
      "text/plain": [
       "['0x5684b195fa5e863a1b55ffc723635bf92c748db8cb360b26cb524319ddf3c413',\n",
       " 301.3731186175648]"
      ]
     },
     "execution_count": 430,
     "metadata": {},
     "output_type": "execute_result"
    }
   ],
   "source": [
    "one_inch_unoswap_resolve(one_inch_tx[1])"
   ]
  },
  {
   "cell_type": "code",
   "execution_count": 328,
   "id": "9630aebe-c981-412a-8da5-8c97c89b19eb",
   "metadata": {
    "tags": []
   },
   "outputs": [
    {
     "data": {
      "text/plain": [
       "22481035247828.65"
      ]
     },
     "execution_count": 328,
     "metadata": {},
     "output_type": "execute_result"
    }
   ],
   "source": [
    "#oneinch_unoswap in tx\n",
    "#oneinch_unoswap in one_inch_tx[0]['input']\n",
    "volume['unoswap']"
   ]
  },
  {
   "cell_type": "code",
   "execution_count": 329,
   "id": "b30f2746-ccf1-493d-b311-e3dd82a6247d",
   "metadata": {
    "tags": []
   },
   "outputs": [
    {
     "data": {
      "text/plain": [
       "{'unoswap': 22481035247828.65, 'univ3': 0, 'swap': 0}"
      ]
     },
     "execution_count": 329,
     "metadata": {},
     "output_type": "execute_result"
    }
   ],
   "source": [
    "volume"
   ]
  },
  {
   "cell_type": "code",
   "execution_count": 226,
   "id": "2dcd2b5e-6f8f-425e-9507-5799481e9bfe",
   "metadata": {
    "tags": []
   },
   "outputs": [
    {
     "data": {
      "text/plain": [
       "'ea7b7dc089c9a4a916b5a7a37617f59fd54e37e4'"
      ]
     },
     "execution_count": 226,
     "metadata": {},
     "output_type": "execute_result"
    }
   ],
   "source": [
    "one_inch_tx[3]['input'][546:586] # Out_Token_Address"
   ]
  },
  {
   "cell_type": "code",
   "execution_count": 284,
   "id": "6dd1d2f0-82e2-4c59-bf25-f603520a1ca9",
   "metadata": {
    "tags": []
   },
   "outputs": [
    {
     "data": {
      "text/plain": [
       "{'block_hash': '0xa008e6ab9b1c675a74342d8731d352702d6138868a8ce77fbaa671241e4232c8',\n",
       " 'block_number': '17363590',\n",
       " 'block_timestamp': '2023-05-29 08:54:47',\n",
       " 'contract_address': '',\n",
       " 'cumulative_gas_used': '8626568',\n",
       " 'effective_gas_price': '25187064738',\n",
       " 'from_address': '0x5ab7f9fdfa7cdadddd991cf535f78608fe767549',\n",
       " 'gas': '231650',\n",
       " 'gas_price': '25187064738',\n",
       " 'gas_used': '187060',\n",
       " 'input': '0x5f5755290000000000000000000000000000000000000000000000000000000000000080000000000000000000000000000000000000000000000000000000000000000000000000000000000000000000000000000000000000000000e6ed27d666800000000000000000000000000000000000000000000000000000000000000000c000000000000000000000000000000000000000000000000000000000000000136f6e65496e6368563546656544796e616d696300000000000000000000000000000000000000000000000000000000000000000000000000000000000000020000000000000000000000000000000000000000000000000000000000000000000000000000000000000000008ce9137d39326ad0cd6491fb5cc0cba0e089b6a900000000000000000000000000000000000000000000000000e4e7e168af3400000000000000000000000000000000000000000000000010566466a3b39cf7830000000000000000000000000000000000000000000000000000000000000120000000000000000000000000000000000000000000000000000205466db74c00000000000000000000000000f326e4de8f66a0bdc0970b79e0924e33c79f1915000000000000000000000000000000000000000000000000000000000000000000000000000000000000000000000000000000000000000000000000000000c80502b1c5000000000000000000000000000000000000000000000000000000000000000000000000000000000000000000000000000000000000000000e4e7e168af3400000000000000000000000000000000000000000000000010566466a3b39cf7820000000000000000000000000000000000000000000000000000000000000080000000000000000000000000000000000000000000000000000000000000000180000000000000003b6d0340ac317d14738a454ff20b191ba3504aa97173045bab4991fe0000000000000000000000000000000000000000000000000011',\n",
       " 'logs_count': 8,\n",
       " 'max_fee_per_gas': '43472703842',\n",
       " 'max_priority_fee_per_gas': '300000000',\n",
       " 'nonce': '0',\n",
       " 'r': '0xd9562c8203a15f2635cdbb697ca126964300e41125028c61d1a338bfd3c1b81',\n",
       " 's': '0x68f702f8e52fcce7ba46965f3cfed886396550765c0456883cab5ab400a3ff19',\n",
       " 'status': '1',\n",
       " 'to_address': '0x881d40237659c251811cec9c364ef91dc08d300c',\n",
       " 'transaction_hash': '0x5684b195fa5e863a1b55ffc723635bf92c748db8cb360b26cb524319ddf3c413',\n",
       " 'transaction_index': 135,\n",
       " 'type': 2,\n",
       " 'v': '1',\n",
       " 'value': '65000000000000000'}"
      ]
     },
     "execution_count": 284,
     "metadata": {},
     "output_type": "execute_result"
    }
   ],
   "source": [
    "#one_inch_tx[1]['input'][546+64:586+64] # In Token Amount\n",
    "one_inch_tx[1]"
   ]
  }
 ],
 "metadata": {
  "kernelspec": {
   "display_name": "Python 3 (ipykernel)",
   "language": "python",
   "name": "python3"
  },
  "language_info": {
   "codemirror_mode": {
    "name": "ipython",
    "version": 3
   },
   "file_extension": ".py",
   "mimetype": "text/x-python",
   "name": "python",
   "nbconvert_exporter": "python",
   "pygments_lexer": "ipython3",
   "version": "3.10.10"
  }
 },
 "nbformat": 4,
 "nbformat_minor": 5
}
