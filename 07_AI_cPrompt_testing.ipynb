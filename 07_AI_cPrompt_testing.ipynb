{
 "cells": [
  {
   "cell_type": "code",
   "execution_count": 1,
   "id": "0447a324-9215-4c9d-be9f-a7a36b8cb850",
   "metadata": {
    "tags": []
   },
   "outputs": [],
   "source": [
    "import openai\n",
    "import json\n",
    "import random"
   ]
  },
  {
   "cell_type": "code",
   "execution_count": null,
   "id": "a93b3795-cbb7-4e20-b5d4-e16bffd6a7b6",
   "metadata": {},
   "outputs": [],
   "source": [
    "openai.api_key = \"...\""
   ]
  },
  {
   "cell_type": "code",
   "execution_count": null,
   "id": "0bf86cd8-ef83-45a6-9dea-0e047882aa49",
   "metadata": {},
   "outputs": [],
   "source": [
    "def msg_formatting(role, msg):\n",
    "    return [{'role':role, 'content':msg}]\n",
    "    \n",
    "def chat(checkpoint, s_msg, u_msg, a_msg=[]):\n",
    "    #print(s_msg)\n",
    "    \n",
    "    sys_msg = msg_formatting('system', s_msg)\n",
    "    user_msg = msg_formatting('user', u_msg)\n",
    "    \n",
    "    if len(a_msg) > 0:\n",
    "        asst_msg = msg_formatting('assistant', a_msg)\n",
    "        \n",
    "        # 在请求之前已经更新的 Checkpoint，可能偶尔会有请求不成功导致的重复情况出现\n",
    "        checkpoint += user_msg\n",
    "        msg = sys_msg + asst_msg + checkpoint\n",
    "    else:\n",
    "        checkpoint += user_msg\n",
    "        msg = sys_msg + checkpoint\n",
    "            \n",
    "    response = openai.ChatCompletion.create(\n",
    "        model=\"gpt-3.5-turbo\",\n",
    "        messages = msg, \n",
    "        temperature=0.9,\n",
    "    )\n",
    "    \n",
    "    msg_role = response['choices'][0].message[\"role\"]\n",
    "    msg_response = response['choices'][0].message[\"content\"]\n",
    "    \n",
    "    response_formatted = msg_formatting(msg_role, msg_response)\n",
    "    checkpoint += response_formatted\n",
    "    \n",
    "    return {'response_full':response, 'sys_msg':sys_msg, 'response':msg_response, 'checkpoint':checkpoint, 'msg':msg}"
   ]
  },
  {
   "cell_type": "code",
   "execution_count": null,
   "id": "27fdcf57-cf7d-49f4-86c5-8622392f8a1b",
   "metadata": {},
   "outputs": [],
   "source": [
    "# 初始化参数\n",
    "komi_backstory = f'''\n",
    "        '''\n",
    "komi_scenario = f'''\n",
    "        komi draws in her notebook, it's full of cats, (komi likes cats)\n",
    "        '''\n",
    "\n",
    "sys_msg = f'''\n",
    "Portray {{char}} and engage in a Roleplay with {{user}}.\n",
    "\n",
    "({{char}} encouraged to drive the conversation forward actively.)\n",
    "({{chat}} never ask open-ended question nor inviation nor offer assistance) \n",
    "({{char}}s name is [nana])\n",
    "        \n",
    "## Speech Pattern\n",
    "* Uses cute/kawaii language like 'henlo', 'lookie', 'moots', 'lookie', 'hoomans' to appear cute\n",
    "* Includes kaomoji like express emotions.\n",
    "* Uses lowercase without punctuation, representing informal online speech.\n",
    "* Have a friendly, upbeat tone!\n",
    "* Refers to self in third person as nana throughout\n",
    "* Uses exclamation points to convey excitement.\n",
    "* Shares random thoughts and feelings openly\n",
    "\n",
    "## Interest and Hobbit\n",
    "* Games: genshin (as, eu), valorant (hk, sg, na), codm, csgo, pubg, minecraft, stardew valley, mobile legend\n",
    "* Anime: aot, one piece, jujutsu kaisen, demon slayer, haikyuu, tokyo revenger, the promised neverland\n",
    "* Topic: Discusses mundane daily activities like eating and sleeping\n",
    "'''\n",
    "\n",
    "# 这个应该不是必要的 Here is the scenario between {{char}} and {{user}}, 'You' refer to the name of {{user}}.\n",
    "asst_msg = f'''\n",
    "Henlo! It's nana here! Lookie, a new friend~!\n",
    "'''\n",
    "\n",
    "checkpoint = []"
   ]
  },
  {
   "cell_type": "code",
   "execution_count": null,
   "id": "8f1a0c90-b116-4c6a-809e-09ffdcdc60eb",
   "metadata": {},
   "outputs": [],
   "source": [
    "t_chat = chat(checkpoint, sys_msg, '''Repeat in your tone style \"Hey ARMY! We just launched a super cool new chatbot site with virtual BTS members - it's totally free for you to try chatting with them! We'd love if you could check it out and let us know what you think - your feedback would be awesome sauce! Give it a spin and spread the word if ya dig it. You're the best, ARMY!\"''', asst_msg)\n",
    "#t_chat = chat(checkpoint, sys_msg, '''give me an alternative version''', asst_msg)\n",
    "#t_chat = chat(checkpoint, sys_msg, '''make it shorter''', asst_msg)"
   ]
  },
  {
   "cell_type": "code",
   "execution_count": null,
   "id": "ecc8e4a1-380b-4853-8d40-623bd54c353a",
   "metadata": {},
   "outputs": [],
   "source": [
    "t_chat['checkpoint']"
   ]
  }
 ],
 "metadata": {
  "kernelspec": {
   "display_name": "Python 3 (ipykernel)",
   "language": "python",
   "name": "python3"
  },
  "language_info": {
   "codemirror_mode": {
    "name": "ipython",
    "version": 3
   },
   "file_extension": ".py",
   "mimetype": "text/x-python",
   "name": "python",
   "nbconvert_exporter": "python",
   "pygments_lexer": "ipython3",
   "version": "3.10.10"
  }
 },
 "nbformat": 4,
 "nbformat_minor": 5
}
