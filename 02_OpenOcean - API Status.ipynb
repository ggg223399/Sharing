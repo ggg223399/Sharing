{
 "cells": [
  {
   "cell_type": "code",
   "execution_count": 354,
   "id": "7f0b923c-d447-44f5-bd13-7bf5d10cdaef",
   "metadata": {
    "tags": []
   },
   "outputs": [],
   "source": [
    "import requests\n",
    "from web3 import Web3\n",
    "import time\n",
    "import pandas as pd"
   ]
  },
  {
   "cell_type": "code",
   "execution_count": 355,
   "id": "53a81adf-e936-4aff-9447-bb826c60f5f0",
   "metadata": {
    "tags": []
   },
   "outputs": [],
   "source": [
    "url = \"https://api.chainbase.online/v1/dw/query\"\n",
    "headers = {\n",
    "    \"x-api-key\": \"...\"\n",
    "}\n",
    "web3_arbitrum = Web3(Web3.HTTPProvider('https://arbitrum-one.public.blastapi.io'))\n",
    "web3_bsc = Web3(Web3.HTTPProvider('https://bsc-dataseed2.defibit.io'))\n",
    "web3_ethereum = Web3(Web3.HTTPProvider('https://eth.llamarpc.com'))\n",
    "web3_polygon = Web3(Web3.HTTPProvider('https://polygon.llamarpc.com'))"
   ]
  },
  {
   "cell_type": "code",
   "execution_count": 356,
   "id": "99eb53d0-1cd8-46f7-a513-4922422cbdad",
   "metadata": {
    "tags": []
   },
   "outputs": [],
   "source": [
    "# Arbitrum\n",
    "arbitrum_chainid = '42161'\n",
    "arbitrum_usdt = '0xfd086bc7cd5c481dcc9c85ebe478a1c0b69fcbb9'\n",
    "arbitrum_usdc = '0xFF970A61A04b1cA14834A43f5dE4533eBDDB5CC8'\n",
    "arbitrum_gasprice = str(web3_arbitrum.eth.gas_price/10 ** 9)\n",
    "arbitrum = [arbitrum_chainid, arbitrum_usdt, arbitrum_usdc, arbitrum_gasprice]\n",
    "\n",
    "# BNB Chain\n",
    "bsc_chainid = '56'\n",
    "bsc_usdt = '0x2B90E061a517dB2BbD7E39Ef7F733Fd234B494CA'\n",
    "bsc_usdc = '0x8ac76a51cc950d9822d68b83fe1ad97b32cd580d'\n",
    "bsc_gasprice = str(web3_bsc.eth.gas_price/10 ** 9)\n",
    "bsc = [bsc_chainid, bsc_usdt, bsc_usdc, bsc_gasprice]\n",
    "\n",
    "# Ethereum\n",
    "ethereum_chainid = '1'\n",
    "ethereum_usdt = '0xdac17f958d2ee523a2206206994597c13d831ec7'\n",
    "ethereum_usdc = '0x7ea2be2df7ba6e54b1a9c70676f668455e329d29'\n",
    "ethereum_gasprice = str(web3_ethereum.eth.gas_price/10 ** 9)\n",
    "ethereum = [ethereum_chainid, ethereum_usdt, ethereum_usdc, ethereum_gasprice]\n",
    "\n",
    "# Polygon\n",
    "polygon_chainid = '137'\n",
    "polygon_usdt = '0xc2132D05D31c914a87C6611C10748AEb04B58e8F'\n",
    "polygon_usdc = '0x2791Bca1f2de4661ED88A30C99A7a9449Aa84174'\n",
    "polygon_gasprice = str(web3_polygon.eth.gas_price/10 ** 9)\n",
    "polygon = [polygon_chainid, polygon_usdt, polygon_usdc, polygon_gasprice]\n",
    "\n",
    "# Merge\n",
    "all_chain = [arbitrum, bsc, ethereum, polygon]\n",
    "\n",
    "# url\n",
    "#pre_url = \"https://us_test-open-api.openocean.finance/v3\"\n",
    "#pre_url = \"https://hk_open-api.openocean.finance/v3\"\n",
    "pre_url = \"https://open-api.openocean.finance/v3\""
   ]
  },
  {
   "cell_type": "code",
   "execution_count": 357,
   "id": "b138627b-0c18-417d-aade-1a7c8fc39a3b",
   "metadata": {
    "tags": []
   },
   "outputs": [],
   "source": [
    "df_responds_testing = pd.DataFrame(columns = ['test_round', 'chain', 'useTime'])\n",
    "test_round = 0"
   ]
  },
  {
   "cell_type": "code",
   "execution_count": 358,
   "id": "f3fa5d2d-6841-4b30-92ef-6ea1c05d6868",
   "metadata": {
    "tags": []
   },
   "outputs": [],
   "source": [
    "def speed_test():\n",
    "    for i in all_chain:\n",
    "        quote = '/' + i[0] + '/quote?'\n",
    "        url = pre_url + quote + 'inTokenAddress=' + i[1] + '&outTokenAddress=' + i[2] + '&amount=1&slippage=1&gasPrice=' + i[3]\n",
    "        \n",
    "        try:\n",
    "            response = requests.get(url)\n",
    "            response_json = response.json()\n",
    "        except:\n",
    "            tmp = {'test_round':test_round, 'chain':i[0], 'useTime':20}\n",
    "            df_responds_testing.loc[len(df_responds_testing)]=tmp\n",
    "            time.sleep(1)\n",
    "            continue\n",
    "        else:\n",
    "            # tmp = {'test_round':test_round, 'chain':i[0], 'useTime':response['data']['useTime']}\n",
    "            tmp = {'test_round':test_round, 'chain':i[0], 'useTime':response.elapsed.total_seconds()}\n",
    "            \n",
    "            df_responds_testing.loc[len(df_responds_testing)]=tmp\n",
    "            time.sleep(1)"
   ]
  },
  {
   "cell_type": "code",
   "execution_count": 359,
   "id": "2ff1bd4d-3373-4f2b-afdf-ec3b03ca7450",
   "metadata": {
    "tags": []
   },
   "outputs": [],
   "source": [
    "count = 10\n",
    "while count > 0:\n",
    "    speed_test()\n",
    "    test_round += 1\n",
    "    count -= 1"
   ]
  },
  {
   "cell_type": "code",
   "execution_count": 360,
   "id": "3c73d163-a3b2-4976-be1d-a2ac7f28e4bf",
   "metadata": {
    "tags": []
   },
   "outputs": [],
   "source": [
    "df_result = pd.DataFrame(columns = ['chain', 'avgTime', 'round'])\n",
    "\n",
    "for i in all_chain:\n",
    "    avgTime = df_responds_testing[df_responds_testing['chain'] == i[0]]['useTime'].mean()\n",
    "    tmp = {'chain': i[0], 'avgTime': avgTime, 'round':test_round}\n",
    "    df_result.loc[len(df_result)] = tmp"
   ]
  },
  {
   "cell_type": "code",
   "execution_count": 361,
   "id": "09a86a78-05b2-4010-9461-17a619819258",
   "metadata": {
    "tags": []
   },
   "outputs": [
    {
     "data": {
      "text/html": [
       "<div>\n",
       "<style scoped>\n",
       "    .dataframe tbody tr th:only-of-type {\n",
       "        vertical-align: middle;\n",
       "    }\n",
       "\n",
       "    .dataframe tbody tr th {\n",
       "        vertical-align: top;\n",
       "    }\n",
       "\n",
       "    .dataframe thead th {\n",
       "        text-align: right;\n",
       "    }\n",
       "</style>\n",
       "<table border=\"1\" class=\"dataframe\">\n",
       "  <thead>\n",
       "    <tr style=\"text-align: right;\">\n",
       "      <th></th>\n",
       "      <th>chain</th>\n",
       "      <th>avgTime</th>\n",
       "      <th>round</th>\n",
       "    </tr>\n",
       "  </thead>\n",
       "  <tbody>\n",
       "    <tr>\n",
       "      <th>0</th>\n",
       "      <td>42161</td>\n",
       "      <td>3.777819</td>\n",
       "      <td>10</td>\n",
       "    </tr>\n",
       "    <tr>\n",
       "      <th>1</th>\n",
       "      <td>56</td>\n",
       "      <td>6.688424</td>\n",
       "      <td>10</td>\n",
       "    </tr>\n",
       "    <tr>\n",
       "      <th>2</th>\n",
       "      <td>1</td>\n",
       "      <td>16.571787</td>\n",
       "      <td>10</td>\n",
       "    </tr>\n",
       "    <tr>\n",
       "      <th>3</th>\n",
       "      <td>137</td>\n",
       "      <td>1.151734</td>\n",
       "      <td>10</td>\n",
       "    </tr>\n",
       "  </tbody>\n",
       "</table>\n",
       "</div>"
      ],
      "text/plain": [
       "   chain    avgTime  round\n",
       "0  42161   3.777819     10\n",
       "1     56   6.688424     10\n",
       "2      1  16.571787     10\n",
       "3    137   1.151734     10"
      ]
     },
     "execution_count": 361,
     "metadata": {},
     "output_type": "execute_result"
    }
   ],
   "source": [
    "# 总体交易相应时间数据\n",
    "df_result"
   ]
  },
  {
   "cell_type": "code",
   "execution_count": 362,
   "id": "ee601f69-67cd-4329-b85f-f9323265a94d",
   "metadata": {
    "tags": []
   },
   "outputs": [
    {
     "data": {
      "text/html": [
       "<div>\n",
       "<style scoped>\n",
       "    .dataframe tbody tr th:only-of-type {\n",
       "        vertical-align: middle;\n",
       "    }\n",
       "\n",
       "    .dataframe tbody tr th {\n",
       "        vertical-align: top;\n",
       "    }\n",
       "\n",
       "    .dataframe thead th {\n",
       "        text-align: right;\n",
       "    }\n",
       "</style>\n",
       "<table border=\"1\" class=\"dataframe\">\n",
       "  <thead>\n",
       "    <tr style=\"text-align: right;\">\n",
       "      <th></th>\n",
       "      <th>test_round</th>\n",
       "      <th>chain</th>\n",
       "      <th>useTime</th>\n",
       "    </tr>\n",
       "  </thead>\n",
       "  <tbody>\n",
       "    <tr>\n",
       "      <th>1</th>\n",
       "      <td>0</td>\n",
       "      <td>56</td>\n",
       "      <td>10.861012</td>\n",
       "    </tr>\n",
       "    <tr>\n",
       "      <th>2</th>\n",
       "      <td>0</td>\n",
       "      <td>1</td>\n",
       "      <td>79.130859</td>\n",
       "    </tr>\n",
       "    <tr>\n",
       "      <th>5</th>\n",
       "      <td>1</td>\n",
       "      <td>56</td>\n",
       "      <td>7.652600</td>\n",
       "    </tr>\n",
       "    <tr>\n",
       "      <th>9</th>\n",
       "      <td>2</td>\n",
       "      <td>56</td>\n",
       "      <td>5.625637</td>\n",
       "    </tr>\n",
       "    <tr>\n",
       "      <th>10</th>\n",
       "      <td>2</td>\n",
       "      <td>1</td>\n",
       "      <td>4.123428</td>\n",
       "    </tr>\n",
       "    <tr>\n",
       "      <th>16</th>\n",
       "      <td>4</td>\n",
       "      <td>42161</td>\n",
       "      <td>32.433065</td>\n",
       "    </tr>\n",
       "    <tr>\n",
       "      <th>17</th>\n",
       "      <td>4</td>\n",
       "      <td>56</td>\n",
       "      <td>3.215070</td>\n",
       "    </tr>\n",
       "    <tr>\n",
       "      <th>25</th>\n",
       "      <td>6</td>\n",
       "      <td>56</td>\n",
       "      <td>9.792275</td>\n",
       "    </tr>\n",
       "    <tr>\n",
       "      <th>26</th>\n",
       "      <td>6</td>\n",
       "      <td>1</td>\n",
       "      <td>73.156626</td>\n",
       "    </tr>\n",
       "    <tr>\n",
       "      <th>29</th>\n",
       "      <td>7</td>\n",
       "      <td>56</td>\n",
       "      <td>5.855248</td>\n",
       "    </tr>\n",
       "    <tr>\n",
       "      <th>33</th>\n",
       "      <td>8</td>\n",
       "      <td>56</td>\n",
       "      <td>17.898786</td>\n",
       "    </tr>\n",
       "    <tr>\n",
       "      <th>37</th>\n",
       "      <td>9</td>\n",
       "      <td>56</td>\n",
       "      <td>3.202900</td>\n",
       "    </tr>\n",
       "  </tbody>\n",
       "</table>\n",
       "</div>"
      ],
      "text/plain": [
       "    test_round  chain    useTime\n",
       "1            0     56  10.861012\n",
       "2            0      1  79.130859\n",
       "5            1     56   7.652600\n",
       "9            2     56   5.625637\n",
       "10           2      1   4.123428\n",
       "16           4  42161  32.433065\n",
       "17           4     56   3.215070\n",
       "25           6     56   9.792275\n",
       "26           6      1  73.156626\n",
       "29           7     56   5.855248\n",
       "33           8     56  17.898786\n",
       "37           9     56   3.202900"
      ]
     },
     "execution_count": 362,
     "metadata": {},
     "output_type": "execute_result"
    }
   ],
   "source": [
    "# 响应时间过长的交易数据\n",
    "df_responds_testing[df_responds_testing['useTime'] > 3]"
   ]
  },
  {
   "cell_type": "code",
   "execution_count": null,
   "id": "2c7fed0d-3a84-4d3c-88ae-2e03d6514bf1",
   "metadata": {},
   "outputs": [],
   "source": []
  }
 ],
 "metadata": {
  "kernelspec": {
   "display_name": "Python 3 (ipykernel)",
   "language": "python",
   "name": "python3"
  },
  "language_info": {
   "codemirror_mode": {
    "name": "ipython",
    "version": 3
   },
   "file_extension": ".py",
   "mimetype": "text/x-python",
   "name": "python",
   "nbconvert_exporter": "python",
   "pygments_lexer": "ipython3",
   "version": "3.10.10"
  }
 },
 "nbformat": 4,
 "nbformat_minor": 5
}
