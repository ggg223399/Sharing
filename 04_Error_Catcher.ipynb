{
 "cells": [
  {
   "cell_type": "code",
   "execution_count": 115,
   "id": "8e7a876d-d794-47a2-997b-581551201b6e",
   "metadata": {
    "tags": []
   },
   "outputs": [],
   "source": [
    "import requests\n",
    "import pandas as pd\n",
    "from web3 import Web3"
   ]
  },
  {
   "cell_type": "code",
   "execution_count": 165,
   "id": "a355cbf6-8e95-49fe-8679-6609f16c8a29",
   "metadata": {
    "tags": []
   },
   "outputs": [],
   "source": [
    "# 这个 SQL 部分可以替换一下，目前是 Polygon 的而且只返回 100 个数据\n",
    "url = \"https://api.chainbase.online/v1/dw/query\"\n",
    "\n",
    "payload = {\"query\":\"SELECT\\r\\n    *\\r\\nfrom\\r\\n    ethereum.trace_calls\\r\\nWHERE\\r\\n    to_address = \\\"0x881d40237659c251811cec9c364ef91dc08d300c\\\" AND input LIKE \\\"%136f70656e4f6365616e46656544796e616d6963%\\\" AND error = 'Reverted'\\r\\nLIMIT\\r\\n   50\"}\n",
    "\n",
    "# 这个 Key 替换一下，别用我的\n",
    "headers = {\n",
    "    \"x-api-key\": \"...\"\n",
    "}\n",
    "\n",
    "response = requests.post(url, json=payload, headers=headers).json()"
   ]
  },
  {
   "cell_type": "code",
   "execution_count": 167,
   "id": "9fdbff86-2955-45f2-8224-571b4f41c950",
   "metadata": {
    "tags": []
   },
   "outputs": [],
   "source": [
    "df_error = pd.DataFrame(columns=['tx_hash', 'error_code'])\n",
    "\n",
    "df_volume_analysis = pd.DataFrame(columns=['Symbol', 'Volume'])\n",
    "\n",
    "for i in response['data']['result']:\n",
    "    transaction_hash = i['transaction_hash']\n",
    "    error_code = web3.to_text(i['output'][138:]) \n",
    "    \n",
    "    tmp = {'tx_hash':transaction_hash, 'error_code':error_code}\n",
    "    df_error.loc[len(df_error)]=tmp"
   ]
  },
  {
   "cell_type": "code",
   "execution_count": 170,
   "id": "298918c9-c70e-4cd1-a1b3-891d1608a4ff",
   "metadata": {
    "tags": []
   },
   "outputs": [],
   "source": [
    "#df_error.to_csv('polygon_error.csv')\n",
    "df_error.to_csv('ethereum_error.csv', index=False, quotechar='\"', escapechar='\\\\')\n",
    "\n",
    "\n",
    "#df.to_csv('output.csv', index=False)\n"
   ]
  },
  {
   "cell_type": "code",
   "execution_count": 171,
   "id": "6dd16793-7ee2-47bd-baea-96f2ebac532c",
   "metadata": {
    "tags": []
   },
   "outputs": [],
   "source": [
    "#df_error"
   ]
  },
  {
   "cell_type": "code",
   "execution_count": 10,
   "id": "79209701-b792-40c9-9664-c8ea260329aa",
   "metadata": {
    "tags": []
   },
   "outputs": [],
   "source": [
    "web3 = Web3(Web3.HTTPProvider('https://polygon.llamarpc.com'))\n"
   ]
  },
  {
   "cell_type": "code",
   "execution_count": 82,
   "id": "bf4c46d5-d9e3-4c96-ac35-92b92049f4e1",
   "metadata": {
    "tags": []
   },
   "outputs": [],
   "source": [
    "tx_hash = '0x0b2d3d5890cb872f90ec629be8065a1ce1059817203d7ae45042f7449e3e2b18'\n",
    "tx_hash_2 = '0x0b2d3d5890cb872f90ec629be8065a1ce1059817203d7ae45042f7449e3e2b18'"
   ]
  },
  {
   "cell_type": "code",
   "execution_count": 87,
   "id": "69caa9de-b494-42fc-804d-47a36b561b61",
   "metadata": {
    "tags": []
   },
   "outputs": [],
   "source": [
    "0x08c379a00000000000000000000000000000000000000000000000000000000000000020000000000000000000000000000000000000000000000000000000000000001b52657475726e20616d6f756e74206973206e6f7420656e6f7567680000000000\t\n",
    "0x08c379a00000000000000000000000000000000000000000000000000000000000000020000000000000000000000000000000000000000000000000000000000000001b52657475726e20616d6f756e74206973206e6f7420656e6f7567680000000000\n",
    "0x08c379a00000000000000000000000000000000000000000000000000000000000000020000000000000000000000000000000000000000000000000000000000000006e4f70656e4f6365616e2065787465726e616c2063616c6c206661696c65643a204572726f72284f70656e4f6365616e2065787465726e616c2063616c6c206661696c65643a204572726f72285361666545524332303a206c6f772d6c6576656c2063616c6c206661696c65642929000000000000000000000000000000000000"
   ]
  },
  {
   "cell_type": "code",
   "execution_count": 91,
   "id": "8c5b0d57-359a-4ed0-89b6-49164c1e6b84",
   "metadata": {
    "tags": []
   },
   "outputs": [
    {
     "data": {
      "text/plain": [
       "136"
      ]
     },
     "execution_count": 91,
     "metadata": {},
     "output_type": "execute_result"
    }
   ],
   "source": [
    "len('0x08c379a0000000000000000000000000000000000000000000000000000000000000002000000000000000000000000000000000000000000000000000000000000000')"
   ]
  },
  {
   "cell_type": "code",
   "execution_count": 191,
   "id": "3c0f3d01-c872-42a2-a3f4-766de6351f86",
   "metadata": {
    "tags": []
   },
   "outputs": [
    {
     "data": {
      "text/plain": [
       "'OpenOcean external call failed: Error(OpenOcean external call failed: Error(SafeERC20: low-level call failed))'"
      ]
     },
     "execution_count": 191,
     "metadata": {},
     "output_type": "execute_result"
    }
   ],
   "source": [
    "# 这里可以解析错误，可以看到 136 个字符之后的就是错误信息哈\n",
    "web3.to_text('4f70656e4f6365616e2065787465726e616c2063616c6c206661696c65643a204572726f72284f70656e4f6365616e2065787465726e616c2063616c6c206661696c65643a204572726f72285361666545524332303a206c6f772d6c6576656c2063616c6c206661696c65642929')"
   ]
  }
 ],
 "metadata": {
  "kernelspec": {
   "display_name": "Python 3 (ipykernel)",
   "language": "python",
   "name": "python3"
  },
  "language_info": {
   "codemirror_mode": {
    "name": "ipython",
    "version": 3
   },
   "file_extension": ".py",
   "mimetype": "text/x-python",
   "name": "python",
   "nbconvert_exporter": "python",
   "pygments_lexer": "ipython3",
   "version": "3.10.10"
  }
 },
 "nbformat": 4,
 "nbformat_minor": 5
}
