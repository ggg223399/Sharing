{
 "cells": [
  {
   "cell_type": "code",
   "execution_count": 1,
   "id": "4bb9dee5-45d7-4563-8630-b54b0910307a",
   "metadata": {
    "tags": []
   },
   "outputs": [],
   "source": [
    "from moralis import evm_api\n",
    "import requests\n",
    "from web3 import Web3\n",
    "import time\n",
    "import pandas as pd\n",
    "import web3\n",
    "import random\n",
    "import datetime\n",
    "import json\n",
    "import os"
   ]
  },
  {
   "cell_type": "code",
   "execution_count": 2,
   "id": "1da7a801-8bd3-4f61-a77c-c29620b2e808",
   "metadata": {
    "tags": []
   },
   "outputs": [
    {
     "data": {
      "text/plain": [
       "['.ipynb_checkpoints',\n",
       " 'OpenOceanDA',\n",
       " 'Transaction History.ipynb',\n",
       " 'Code Temp',\n",
       " 'Transaction History General.ipynb',\n",
       " 'OpenOcean Maintainess',\n",
       " 'Untitled1.ipynb',\n",
       " 'Untitled.ipynb']"
      ]
     },
     "execution_count": 2,
     "metadata": {},
     "output_type": "execute_result"
    }
   ],
   "source": [
    "# 获取当前路径\n",
    "root = os.getcwd()\n",
    "\n",
    "# 查看当前路径下级文件\n",
    "os.listdir()"
   ]
  },
  {
   "cell_type": "code",
   "execution_count": 3,
   "id": "69f94b47-9d41-478d-99f4-57a5b853b517",
   "metadata": {
    "tags": []
   },
   "outputs": [],
   "source": [
    "all_order_file = r'/home/jovyan/work/OpenOceanDA/LimitOrder_AllOrder.xlsx'\n",
    "all_order_sheet = pd.read_excel(all_order_file)\n",
    "\n",
    "filled_order_file = r'/home/jovyan/work/OpenOceanDA/LimitOrder_FilledOrder.xlsx'\n",
    "filled_order_sheet = pd.read_excel(filled_order_file)"
   ]
  },
  {
   "cell_type": "code",
   "execution_count": 24,
   "id": "6c0b608c-1431-4e77-9d12-06fa5ed9404d",
   "metadata": {
    "tags": []
   },
   "outputs": [
    {
     "data": {
      "text/plain": [
       "['2021-12-30 00:00:00',\n",
       " '2022-01-06 00:00:00',\n",
       " '2022-01-13 00:00:00',\n",
       " '2022-01-20 00:00:00',\n",
       " '2022-01-27 00:00:00',\n",
       " '2022-02-03 00:00:00',\n",
       " '2022-02-10 00:00:00',\n",
       " '2022-02-17 00:00:00',\n",
       " '2022-02-24 00:00:00',\n",
       " '2022-03-03 00:00:00',\n",
       " '2022-03-10 00:00:00',\n",
       " '2022-03-17 00:00:00',\n",
       " '2022-03-24 00:00:00',\n",
       " '2022-03-31 00:00:00',\n",
       " '2022-04-07 00:00:00',\n",
       " '2022-04-14 00:00:00',\n",
       " '2022-04-21 00:00:00',\n",
       " '2022-04-28 00:00:00',\n",
       " '2022-05-05 00:00:00',\n",
       " '2022-05-12 00:00:00',\n",
       " '2022-05-19 00:00:00',\n",
       " '2022-05-26 00:00:00',\n",
       " '2022-06-02 00:00:00',\n",
       " '2022-06-09 00:00:00',\n",
       " '2022-06-16 00:00:00',\n",
       " '2022-06-23 00:00:00',\n",
       " '2022-06-30 00:00:00',\n",
       " '2022-07-07 00:00:00',\n",
       " '2022-07-14 00:00:00',\n",
       " '2022-07-21 00:00:00',\n",
       " '2022-07-28 00:00:00',\n",
       " '2022-08-04 00:00:00',\n",
       " '2022-08-11 00:00:00',\n",
       " '2022-08-18 00:00:00',\n",
       " '2022-08-25 00:00:00',\n",
       " '2022-09-01 00:00:00',\n",
       " '2022-09-08 00:00:00',\n",
       " '2022-09-15 00:00:00',\n",
       " '2022-09-22 00:00:00',\n",
       " '2022-09-29 00:00:00',\n",
       " '2022-10-06 00:00:00',\n",
       " '2022-10-13 00:00:00',\n",
       " '2022-10-20 00:00:00',\n",
       " '2022-10-27 00:00:00',\n",
       " '2022-11-03 00:00:00',\n",
       " '2022-11-10 00:00:00',\n",
       " '2022-11-17 00:00:00',\n",
       " '2022-11-24 00:00:00',\n",
       " '2022-12-01 00:00:00',\n",
       " '2022-12-08 00:00:00',\n",
       " '2022-12-15 00:00:00',\n",
       " '2022-12-22 00:00:00',\n",
       " '2022-12-29 00:00:00',\n",
       " '2023-01-05 00:00:00',\n",
       " '2023-01-12 00:00:00',\n",
       " '2023-01-19 00:00:00',\n",
       " '2023-01-26 00:00:00',\n",
       " '2023-02-02 00:00:00',\n",
       " '2023-02-09 00:00:00',\n",
       " '2023-02-16 00:00:00',\n",
       " '2023-02-23 00:00:00',\n",
       " '2023-03-02 00:00:00',\n",
       " '2023-03-09 00:00:00',\n",
       " '2023-03-16 00:00:00',\n",
       " '2023-03-23 00:00:00',\n",
       " '2023-03-30 00:00:00',\n",
       " '2023-04-06 00:00:00',\n",
       " '2023-04-13 00:00:00',\n",
       " '2023-04-20 00:00:00',\n",
       " '2023-04-27 00:00:00',\n",
       " '2023-05-04 00:00:00',\n",
       " '2023-05-11 00:00:00',\n",
       " '2023-05-18 00:00:00',\n",
       " '2023-05-25 00:00:00']"
      ]
     },
     "execution_count": 24,
     "metadata": {},
     "output_type": "execute_result"
    }
   ],
   "source": [
    "# 生成时间从而获取时间维度的数据\n",
    "\n",
    "start_time = datetime.datetime(2021,12,30,0,0,0)\n",
    "period_list = []\n",
    "period_dict = {}\n",
    "\n",
    "def period_generator(start_time):\n",
    "    time_counter = start_time\n",
    "    counter = 0\n",
    "    \n",
    "    while time_counter < datetime.datetime.now():\n",
    "        time = time_counter.strftime(\"%Y-%m-%d %H:%M:%S\")\n",
    "        period_list.append(time)\n",
    "        week_count = 'week' + '%s' % counter\n",
    "        period_dict[week_count] = time\n",
    "        \n",
    "        time_counter += datetime.timedelta(days = 7)\n",
    "        counter += 1\n",
    "        \n",
    "period_generator(start_time)\n",
    "period_list\n",
    "#period_dict"
   ]
  },
  {
   "cell_type": "code",
   "execution_count": null,
   "id": "5c6f4020-20a6-4933-add1-e68e294801af",
   "metadata": {},
   "outputs": [],
   "source": [
    "tmp = {'tx_hash':tx_hash, 'method':'90411a32', 'in_token_address':in_token_address, 'in_token_amount':in_token_amount, 'out_token_address':out_token_address, 'out_token_amount':out_token_amount, 'error_code':0}\n",
    "df_transaction_result.loc[len(df_transaction_result)]=tmp\n",
    "time.sleep(2)"
   ]
  },
  {
   "cell_type": "code",
   "execution_count": 116,
   "id": "b70e5059-3102-4d13-9fa6-9bfd6940a81a",
   "metadata": {
    "tags": []
   },
   "outputs": [],
   "source": [
    "def order_count_by_datetime(period_dict, order_sheet, chain = 'all'):\n",
    "    order_count_by_datetime = pd.DataFrame(columns = ['week', 'chain', 'start_date', 'count'])\n",
    "    period_list = []\n",
    "    \n",
    "    #pd.DataFrame(columns=['tx_hash', 'method', 'in_token_address', 'in_token_amount', 'out_token_address', 'out_token_amount', 'error_code'])\n",
    "    \n",
    "    for i in period_dict:\n",
    "        period_list.append(period_dict[i])\n",
    "\n",
    "    for week_day in period_dict:\n",
    "        week_start = period_dict[week_day]\n",
    "        next_week_day = 'week' + str(int(week_day[4:]) + 1)\n",
    "        \n",
    "        try:\n",
    "            a = period_dict[next_week_day]\n",
    "        except:\n",
    "            continue\n",
    "        \n",
    "        week_end = period_dict[next_week_day]\n",
    "        \n",
    "        # Pandas 添加数据\n",
    "        #df = df[(df['col'] < -0.25) | (df['col'] > 0.25)]\n",
    "        \n",
    "        if chain == 'all':\n",
    "            order_sheet_count = order_sheet[(week_start < order_sheet['CreateTime']) & (order_sheet['CreateTime'] < week_end)].shape[0]\n",
    "            tmp = {'week': week_day, 'chain': chain, 'start_date': week_start, 'count': order_sheet_count}\n",
    "            order_count_by_datetime.loc[len(order_count_by_datetime)]=tmp\n",
    "        \n",
    "        else:\n",
    "            order_sheet_count = order_sheet[(week_start < order_sheet['CreateTime']) & (order_sheet['CreateTime'] < week_end) & (order_sheet['Chain'] == chain)].shape[0]\n",
    "            tmp = {'week': week_day, 'chain': chain, 'start_date': week_start, 'count': order_sheet_count}\n",
    "            order_count_by_datetime.loc[len(order_count_by_datetime)]=tmp\n",
    "\n",
    "    return order_count_by_datetime\n",
    "\n",
    "#all_order_sheet[all_order_sheet['CreateTime'] < '2023-05-01 00:00:00']"
   ]
  },
  {
   "cell_type": "code",
   "execution_count": 118,
   "id": "03cc6965-90d6-4a97-8773-240d9ae677d5",
   "metadata": {
    "tags": []
   },
   "outputs": [],
   "source": [
    "#all_order_period_data = order_count_by_datetime(period_dict, all_order_sheet)\n",
    "#eth_order_period_data = order_count_by_datetime(period_dict, all_order_sheet, 'eth')\n",
    "#bsc_order_period_data\n",
    "#arbitrum_order_period_data\n",
    "filled_order_period_data = order_count_by_datetime(period_dict, filled_order_sheet)\n",
    "\n",
    "chainlist = ['all', 'eth', 'bsc', 'arbitrum', 'polygon', 'avax', 'optimism']\n",
    "\n",
    "data_list = []\n",
    "\n",
    "for chain in chainlist:\n",
    "    all_order_period_data = order_count_by_datetime(period_dict, all_order_sheet, chain)\n",
    "    data_list.append(all_order_period_data)\n",
    "    \n",
    "    #new_users_count_by_datetime.to_csv('new_users_count_by_datetime_' + chain + '.csv')\n"
   ]
  },
  {
   "cell_type": "code",
   "execution_count": 124,
   "id": "59de34c2-3599-40f8-aa70-edae0a526fca",
   "metadata": {
    "tags": []
   },
   "outputs": [],
   "source": [
    "writer = pd.ExcelWriter('all_order_period_data.xlsx')\n",
    "\n",
    "for i in range(0, len(chainlist)):\n",
    "    data_list[i].to_excel(writer, sheet_name = chainlist[i])\n",
    "\n",
    "writer.close()\n",
    "\n",
    "#for i in data_list:\n",
    "#    i.to_excel(writer, sheet_name = )"
   ]
  },
  {
   "cell_type": "code",
   "execution_count": 65,
   "id": "7de1b273-ec5a-46af-802f-a357471f8432",
   "metadata": {
    "tags": []
   },
   "outputs": [],
   "source": [
    "#all_order_period_data.to_csv('all_order_period_data.csv')\n",
    "#eth_order_period_data.to_csv('all_order_period_data_eth.csv')\n",
    "filled_order_period_data.to_csv('filled_order_period_data.csv')"
   ]
  },
  {
   "cell_type": "code",
   "execution_count": 110,
   "id": "6adef7ca-f7af-4cf6-ae4b-966a1be946fd",
   "metadata": {
    "tags": []
   },
   "outputs": [],
   "source": [
    "# 统计新用户数量\n",
    "\n",
    "def user_count(period_dict, order_sheet, chain = 0):\n",
    "    new_users_count_by_datetime = pd.DataFrame(columns = ['week', 'chain', 'start_date', 'new_users_count'])\n",
    "    period_list = []\n",
    "    user_list = []\n",
    "    \n",
    "    for i in period_dict:\n",
    "        period_list.append(period_dict[i])\n",
    "        \n",
    "    for week_day in period_dict:\n",
    "        week_start = period_dict[week_day]\n",
    "        next_week_day = 'week' + str(int(week_day[4:]) + 1)\n",
    "\n",
    "        try:\n",
    "            a = period_dict[next_week_day]\n",
    "        except:\n",
    "            continue\n",
    "\n",
    "        week_end = period_dict[next_week_day]\n",
    "    \n",
    "        if chain == 0:\n",
    "                # 计算新用户数量\n",
    "                users = order_sheet[(week_start < order_sheet['CreateTime']) & (order_sheet['CreateTime'] < week_end)]['OrderMaker']\n",
    "\n",
    "                prev_user_count = len(user_list)\n",
    "\n",
    "                for user in users:\n",
    "                    if user not in user_list:\n",
    "                        user_list.append(user)\n",
    "\n",
    "                tmp = {'week': week_day, 'chain': chain, 'start_date': week_start, 'new_users_count': len(user_list) - prev_user_count}\n",
    "                new_users_count_by_datetime.loc[len(new_users_count_by_datetime)]=tmp\n",
    "        else:\n",
    "                users = order_sheet[(week_start < order_sheet['CreateTime']) & (order_sheet['CreateTime'] < week_end) & (order_sheet['Chain']==chain)]['OrderMaker']\n",
    "\n",
    "                prev_user_count = len(user_list)\n",
    "\n",
    "                for user in users:\n",
    "                    if user not in user_list:\n",
    "                        user_list.append(user)\n",
    "\n",
    "                tmp = {'week': week_day, 'chain': chain, 'start_date': week_start, 'new_users_count': len(user_list) - prev_user_count}\n",
    "                new_users_count_by_datetime.loc[len(new_users_count_by_datetime)]=tmp\n",
    "\n",
    "    \n",
    "    \n",
    "    return new_users_count_by_datetime"
   ]
  },
  {
   "cell_type": "code",
   "execution_count": 97,
   "id": "6ef0b206-5481-4e52-b429-e63f49857fb9",
   "metadata": {
    "tags": []
   },
   "outputs": [],
   "source": [
    "new_users_count_by_datetime = user_count(period_dict, all_order_period_data, chain = 0)"
   ]
  },
  {
   "cell_type": "code",
   "execution_count": 112,
   "id": "2f69c1bc-78b5-4d7a-b096-922fe32d543a",
   "metadata": {
    "tags": []
   },
   "outputs": [],
   "source": [
    "#new_users_count_by_datetime\n",
    "#new_users_count_by_datetime.to_csv('new_users_count_by_datetime.csv')\n",
    "\n",
    "chainlist = ['eth', 'bsc', 'arbitrum', 'polygon', 'avax', 'optimism']\n",
    "\n",
    "for chain in chainlist:\n",
    "    new_users_count_by_datetime = user_count(period_dict, all_order_sheet, chain)\n",
    "    new_users_count_by_datetime.to_csv('new_users_count_by_datetime_' + chain + '.csv')\n",
    "    \n"
   ]
  },
  {
   "cell_type": "code",
   "execution_count": 114,
   "id": "42d4606d-0b4a-4734-84ee-373f8e9de98a",
   "metadata": {
    "tags": []
   },
   "outputs": [],
   "source": [
    "user_count(period_dict, all_order_sheet, 'polygon').to_csv('new_users_count_by_datetime_polygon.csv')"
   ]
  },
  {
   "cell_type": "code",
   "execution_count": 68,
   "id": "a4eb9602-427d-4f49-a694-745704dd369e",
   "metadata": {
    "tags": []
   },
   "outputs": [
    {
     "data": {
      "text/plain": [
       "datetime.date(2023, 5, 31)"
      ]
     },
     "execution_count": 68,
     "metadata": {},
     "output_type": "execute_result"
    }
   ],
   "source": [
    "now = datetime.date.today()\n",
    "now"
   ]
  },
  {
   "cell_type": "code",
   "execution_count": 42,
   "id": "bcfa30bf-66f0-47c9-9bb4-0681ad847c7d",
   "metadata": {
    "tags": []
   },
   "outputs": [
    {
     "data": {
      "text/plain": [
       "Chain\n",
       "bsc          324\n",
       "arbitrum     254\n",
       "polygon      220\n",
       "fantom       165\n",
       "avax          72\n",
       "optimism      55\n",
       "harmony       23\n",
       "eth           22\n",
       "cronos         4\n",
       "xdai           4\n",
       "heco           2\n",
       "okex           2\n",
       "moonriver      2\n",
       "Name: count, dtype: int64"
      ]
     },
     "execution_count": 42,
     "metadata": {},
     "output_type": "execute_result"
    }
   ],
   "source": [
    "filled_order_sheet['Chain'].value_counts()"
   ]
  },
  {
   "cell_type": "code",
   "execution_count": null,
   "id": "086c5eb2-0204-4669-9eb2-2183cfed9285",
   "metadata": {},
   "outputs": [],
   "source": []
  }
 ],
 "metadata": {
  "kernelspec": {
   "display_name": "Python 3 (ipykernel)",
   "language": "python",
   "name": "python3"
  },
  "language_info": {
   "codemirror_mode": {
    "name": "ipython",
    "version": 3
   },
   "file_extension": ".py",
   "mimetype": "text/x-python",
   "name": "python",
   "nbconvert_exporter": "python",
   "pygments_lexer": "ipython3",
   "version": "3.10.10"
  }
 },
 "nbformat": 4,
 "nbformat_minor": 5
}
